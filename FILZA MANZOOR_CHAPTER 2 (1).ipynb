{
 "cells": [
  {
   "cell_type": "markdown",
   "metadata": {},
   "source": [
    "# FILZA MANZOOR_CHAPTER 2"
   ]
  },
  {
   "cell_type": "markdown",
   "metadata": {},
   "source": [
    "## PRACTICE PROBLEMS "
   ]
  },
  {
   "cell_type": "markdown",
   "metadata": {},
   "source": [
    "## 2.1"
   ]
  },
  {
   "cell_type": "code",
   "execution_count": 1,
   "metadata": {},
   "outputs": [
    {
     "name": "stdout",
     "output_type": "stream",
     "text": [
      "The sum of first 5 positive integers is:  15\n"
     ]
    }
   ],
   "source": [
    "# a) The sum of first 5 positive integers\n",
    "pos_int=[1,2,3,4,5]\n",
    "x=sum(pos_int)\n",
    "print(\"The sum of first 5 positive integers is: \", x)\n"
   ]
  },
  {
   "cell_type": "code",
   "execution_count": 8,
   "metadata": {},
   "outputs": [
    {
     "name": "stdout",
     "output_type": "stream",
     "text": [
      "The average age among Sara, Mark and Fatima is:  24\n"
     ]
    }
   ],
   "source": [
    "# b) The average age\n",
    "s= 23\n",
    "m= 19\n",
    "f= 31\n",
    "import math\n",
    "x=int((s+m+f)/3)\n",
    "print (\"The average age among Sara, Mark and Fatima is: \", x )\n"
   ]
  },
  {
   "cell_type": "code",
   "execution_count": 7,
   "metadata": {},
   "outputs": [
    {
     "name": "stdout",
     "output_type": "stream",
     "text": [
      "5\n"
     ]
    }
   ],
   "source": [
    "# c) The number of times 73 goes into 403\n",
    "x=403//73\n",
    "print(x)"
   ]
  },
  {
   "cell_type": "code",
   "execution_count": 6,
   "metadata": {},
   "outputs": [
    {
     "name": "stdout",
     "output_type": "stream",
     "text": [
      "38\n"
     ]
    }
   ],
   "source": [
    "# d) The remainder when 403 is divided by 73\n",
    "x= 403%73\n",
    "print(x)"
   ]
  },
  {
   "cell_type": "code",
   "execution_count": 9,
   "metadata": {},
   "outputs": [
    {
     "name": "stdout",
     "output_type": "stream",
     "text": [
      "1024\n"
     ]
    }
   ],
   "source": [
    "# e) 2 to the 10th power\n",
    "x=2**10\n",
    "print(x)\n"
   ]
  },
  {
   "cell_type": "code",
   "execution_count": 11,
   "metadata": {},
   "outputs": [
    {
     "name": "stdout",
     "output_type": "stream",
     "text": [
      "3\n"
     ]
    }
   ],
   "source": [
    "# f)The absolute value of the difference between Sara’s height (54 inches) and Mark’s height (57 inches)\n",
    "s_h= 54\n",
    "m_h=57\n",
    "x= (s_h-m_h)\n",
    "print (abs(x))\n"
   ]
  },
  {
   "cell_type": "code",
   "execution_count": 12,
   "metadata": {},
   "outputs": [
    {
     "name": "stdout",
     "output_type": "stream",
     "text": [
      "29.95\n"
     ]
    }
   ],
   "source": [
    "#g) The lowest price among the following prices: $34.99, $29.95, and $31.50\n",
    "lst=[34.99,29.95,31.50]\n",
    "x=min(lst)\n",
    "print (x)\n"
   ]
  },
  {
   "cell_type": "markdown",
   "metadata": {},
   "source": [
    "## 2.2"
   ]
  },
  {
   "cell_type": "code",
   "execution_count": 13,
   "metadata": {
    "scrolled": true
   },
   "outputs": [
    {
     "name": "stdout",
     "output_type": "stream",
     "text": [
      "True\n"
     ]
    }
   ],
   "source": [
    "# a) The sum of 2 and 2 is less than 4.\n",
    "a= 2 + 2 < 4\n",
    "print (bool(x))\n"
   ]
  },
  {
   "cell_type": "code",
   "execution_count": 14,
   "metadata": {},
   "outputs": [
    {
     "name": "stdout",
     "output_type": "stream",
     "text": [
      "True\n"
     ]
    }
   ],
   "source": [
    "# b) The value of 7 // 3 is equal to 1 + 1\n",
    "x= 7 // 3 == 1 + 1\n",
    "print(x)\n"
   ]
  },
  {
   "cell_type": "code",
   "execution_count": 15,
   "metadata": {},
   "outputs": [
    {
     "data": {
      "text/plain": [
       "True"
      ]
     },
     "execution_count": 15,
     "metadata": {},
     "output_type": "execute_result"
    }
   ],
   "source": [
    "# c) The sum of 3 squared and 4 squared is equal to 25\n",
    "x=3**2\n",
    "y=4**2\n",
    "x + y == 25\n"
   ]
  },
  {
   "cell_type": "code",
   "execution_count": 17,
   "metadata": {},
   "outputs": [
    {
     "data": {
      "text/plain": [
       "True"
      ]
     },
     "execution_count": 17,
     "metadata": {},
     "output_type": "execute_result"
    }
   ],
   "source": [
    "# (d) The sum of 2, 4, and 6 is greater than 12.\n",
    "2+4+6>=12\n"
   ]
  },
  {
   "cell_type": "code",
   "execution_count": 19,
   "metadata": {},
   "outputs": [
    {
     "data": {
      "text/plain": [
       "True"
      ]
     },
     "execution_count": 19,
     "metadata": {},
     "output_type": "execute_result"
    }
   ],
   "source": [
    "# (e) 1387 is divisible by 19.\n",
    "1387 % 19==0\n"
   ]
  },
  {
   "cell_type": "code",
   "execution_count": 20,
   "metadata": {},
   "outputs": [
    {
     "data": {
      "text/plain": [
       "False"
      ]
     },
     "execution_count": 20,
     "metadata": {},
     "output_type": "execute_result"
    }
   ],
   "source": [
    "# f) 31 is even. (Hint: what does the remainder when you divide by 2 tell you?)\n",
    "31 % 2==0\n"
   ]
  },
  {
   "cell_type": "code",
   "execution_count": 21,
   "metadata": {},
   "outputs": [
    {
     "data": {
      "text/plain": [
       "True"
      ]
     },
     "execution_count": 21,
     "metadata": {},
     "output_type": "execute_result"
    }
   ],
   "source": [
    "# (g) The lowest price among $34.99, $29.95, and $31.50 is less than $30.00.\n",
    "min(34.99, 29.95, 31.50) < 30.00\n"
   ]
  },
  {
   "cell_type": "markdown",
   "metadata": {},
   "source": [
    "## 2.3"
   ]
  },
  {
   "cell_type": "code",
   "execution_count": 22,
   "metadata": {},
   "outputs": [
    {
     "name": "stdout",
     "output_type": "stream",
     "text": [
      "3\n"
     ]
    }
   ],
   "source": [
    "#(a) Assign integer value 3 to variable a.\n",
    "a=3\n",
    "print (a)\n"
   ]
  },
  {
   "cell_type": "code",
   "execution_count": 23,
   "metadata": {},
   "outputs": [
    {
     "name": "stdout",
     "output_type": "stream",
     "text": [
      "4\n"
     ]
    }
   ],
   "source": [
    "#(b) Assign 4 to variable b\n",
    "b=4\n",
    "print(b)\n"
   ]
  },
  {
   "cell_type": "code",
   "execution_count": 24,
   "metadata": {},
   "outputs": [
    {
     "name": "stdout",
     "output_type": "stream",
     "text": [
      "25\n"
     ]
    }
   ],
   "source": [
    "#(c) Assign to variable c the value of expression a * a + b * b\n",
    "c= a*a + b*b\n",
    "print(c)\n"
   ]
  },
  {
   "cell_type": "markdown",
   "metadata": {},
   "source": [
    "## 2.4 "
   ]
  },
  {
   "cell_type": "code",
   "execution_count": 26,
   "metadata": {},
   "outputs": [
    {
     "name": "stdout",
     "output_type": "stream",
     "text": [
      " (a) For expression : \"ant bat cod\" : ant bat cod\n",
      " (b) For expression : \"ant ant ant ant ant ant ant ant ant ant \" : ant ant ant ant ant ant ant ant ant ant \n",
      " (c) For expression : \"ant bat bat cod cod cod\" :  ant bat bat cod cod cod\n",
      " (d) For expression : \"ant bat ant bat ant bat ant bat ant bat ant bat ant bat \":  ant bat ant bat ant bat ant bat ant bat ant bat ant bat \n",
      " (e) For expression : \"batbatcod batbatcod batbatcod batbatcod batbatcod\" :  batbatcod batbatcod batbatcod batbatcod batbatcod \n"
     ]
    }
   ],
   "source": [
    "s1 = 'ant'\n",
    "s2 = 'bat'\n",
    "s3 = 'cod'\n",
    "print(' (a) For expression : \"ant bat cod\" :', s1+ ' '+ s2+ ' '+s3)\n",
    "print(' (b) For expression : \"ant ant ant ant ant ant ant ant ant ant \" :', 10 * (s1 +\n",
    "' '))\n",
    "print(' (c) For expression : \"ant bat bat cod cod cod\" : ',s1 + ' ' + 2 * (s2 + ' ') +\n",
    "2 * (s3 + ' ') + s3)\n",
    "print(' (d) For expression : \"ant bat ant bat ant bat ant bat ant bat ant bat ant bat \": ', 7 * (s1 + ' '+ s2 + ' '))\n",
    "print(' (e) For expression : \"batbatcod batbatcod batbatcod batbatcod batbatcod\" : ',\n",
    "5* (s2 + s2 + s3+ ' '))\n"
   ]
  },
  {
   "cell_type": "markdown",
   "metadata": {},
   "source": [
    "## 2.5"
   ]
  },
  {
   "cell_type": "code",
   "execution_count": 27,
   "metadata": {},
   "outputs": [
    {
     "name": "stdout",
     "output_type": "stream",
     "text": [
      "a) [0]\n",
      "b) [1]\n",
      "c) [6]\n",
      "d) [8]\n",
      "e) [9]\n"
     ]
    }
   ],
   "source": [
    "s= '0123456789'\n",
    "s=[0]\n",
    "print('a)',s)\n",
    "s=[1]\n",
    "print('b)',s)\n",
    "s=[6]\n",
    "print('c)',s)\n",
    "s=[8]\n",
    "print('d)',s)\n",
    "s=[9]\n",
    "print('e)',s)\n"
   ]
  },
  {
   "cell_type": "markdown",
   "metadata": {},
   "source": [
    "## 2.6 "
   ]
  },
  {
   "cell_type": "code",
   "execution_count": 28,
   "metadata": {},
   "outputs": [
    {
     "name": "stdout",
     "output_type": "stream",
     "text": [
      "The word that contains maximum words is: badminton\n",
      "The word that contains minimum words is: bat\n"
     ]
    }
   ],
   "source": [
    "words = ['bat', 'ball', 'barn', 'basket', 'badminton']\n",
    "x= min(words)\n",
    "print(\"The word that contains maximum words is:\", x)\n",
    "y=max(words)\n",
    "print(\"The word that contains minimum words is:\", y)\n"
   ]
  },
  {
   "cell_type": "markdown",
   "metadata": {},
   "source": [
    "## 2.7 "
   ]
  },
  {
   "cell_type": "code",
   "execution_count": 29,
   "metadata": {},
   "outputs": [
    {
     "name": "stdout",
     "output_type": "stream",
     "text": [
      "The grades counted till 7 are: 2\n",
      "A statement that changes the last grade to 4 is: grades[-1] = 4\n",
      "Maximum grade is:  [9, 7, 7, 10, 3, 9, 6, 6, 4]\n",
      "The grades in ascending order are: None\n",
      "Average grades are:  6\n"
     ]
    }
   ],
   "source": [
    "grades = [9, 7, 7, 10, 3, 9, 6, 6, 2]\n",
    "a= grades.count(7)\n",
    "print(\"The grades counted till 7 are:\", a)\n",
    "b= grades[-1] = 4\n",
    "print(\"A statement that changes the last grade to 4 is: grades[-1] = 4\" )\n",
    "c= max([grades])\n",
    "print(\"Maximum grade is: \", c)\n",
    "d= grades.sort()\n",
    "print(\"The grades in ascending order are:\", d )\n",
    "e= int(sum(grades) / len(grades))\n",
    "print(\"Average grades are: \", e )\n"
   ]
  },
  {
   "cell_type": "markdown",
   "metadata": {},
   "source": [
    "## 2.8 "
   ]
  },
  {
   "cell_type": "code",
   "execution_count": 30,
   "metadata": {},
   "outputs": [
    {
     "data": {
      "text/plain": [
       "False"
      ]
     },
     "execution_count": 30,
     "metadata": {},
     "output_type": "execute_result"
    }
   ],
   "source": [
    "#a\n",
    "((2 + 3) == 4) or (a >= 5)"
   ]
  },
  {
   "cell_type": "code",
   "execution_count": 31,
   "metadata": {},
   "outputs": [
    {
     "data": {
      "text/plain": [
       "False"
      ]
     },
     "execution_count": 31,
     "metadata": {},
     "output_type": "execute_result"
    }
   ],
   "source": [
    "#b\n",
    "lst= [3,6,7,8,1,2,77,43,100,45,23,56]\n",
    "(((lst[1]) * (-3)) < (-10)) == 0"
   ]
  },
  {
   "cell_type": "code",
   "execution_count": 32,
   "metadata": {},
   "outputs": [
    {
     "data": {
      "text/plain": [
       "True"
      ]
     },
     "execution_count": 32,
     "metadata": {},
     "output_type": "execute_result"
    }
   ],
   "source": [
    "#c\n",
    "lst= [3,6,7,8,1,2,77,43,100,45,23,56]\n",
    "(((lst[1]) * (-3)) < (-10)) in [0, True]\n"
   ]
  },
  {
   "cell_type": "code",
   "execution_count": 33,
   "metadata": {},
   "outputs": [
    {
     "data": {
      "text/plain": [
       "100"
      ]
     },
     "execution_count": 33,
     "metadata": {},
     "output_type": "execute_result"
    }
   ],
   "source": [
    "#d\n",
    "4*(5**2)\n"
   ]
  },
  {
   "cell_type": "code",
   "execution_count": 34,
   "metadata": {},
   "outputs": [
    {
     "data": {
      "text/plain": [
       "True"
      ]
     },
     "execution_count": 34,
     "metadata": {},
     "output_type": "execute_result"
    }
   ],
   "source": [
    "#e\n",
    "4/2 in [1,2,3]\n"
   ]
  },
  {
   "cell_type": "markdown",
   "metadata": {},
   "source": [
    "## 2.9 "
   ]
  },
  {
   "cell_type": "code",
   "execution_count": 35,
   "metadata": {},
   "outputs": [
    {
     "name": "stdout",
     "output_type": "stream",
     "text": [
      "<class 'int'>\n"
     ]
    }
   ],
   "source": [
    "#(a) False + False\n",
    "a= type(False + False)\n",
    "print (a)\n"
   ]
  },
  {
   "cell_type": "code",
   "execution_count": 36,
   "metadata": {},
   "outputs": [
    {
     "name": "stdout",
     "output_type": "stream",
     "text": [
      "<class 'float'>\n"
     ]
    }
   ],
   "source": [
    "#(b) 2 * 3**2.0\n",
    "b= type(2 * 3**2.0)\n",
    "print(b)\n"
   ]
  },
  {
   "cell_type": "code",
   "execution_count": 37,
   "metadata": {},
   "outputs": [
    {
     "name": "stdout",
     "output_type": "stream",
     "text": [
      "<class 'int'>\n"
     ]
    }
   ],
   "source": [
    "#(c) 4 // 2 + 4 % 2\n",
    "c=type(4 // 2 + 4 % 2)\n",
    "print (c)\n"
   ]
  },
  {
   "cell_type": "code",
   "execution_count": 38,
   "metadata": {},
   "outputs": [
    {
     "name": "stdout",
     "output_type": "stream",
     "text": [
      "<class 'bool'>\n"
     ]
    }
   ],
   "source": [
    "#(d) 2 + 3 == 4 or 5 >= 5\n",
    "d=type(2 + 3 == 4 or 5 >= 5)\n",
    "print(d)"
   ]
  },
  {
   "cell_type": "markdown",
   "metadata": {},
   "source": [
    "## 2.10"
   ]
  },
  {
   "cell_type": "code",
   "execution_count": 40,
   "metadata": {},
   "outputs": [
    {
     "name": "stdout",
     "output_type": "stream",
     "text": [
      "The length of the hypoteneous in a right angle triangle is:  8\n"
     ]
    }
   ],
   "source": [
    "# a) The length of the hypotenuse in a right triangle whose other two sides have lengths a and b\n",
    "a=7\n",
    "b=4\n",
    "import math\n",
    "c= int(math.sqrt(a**2 + b**2))\n",
    "print(\"The length of the hypoteneous in a right angle triangle is: \", c)\n"
   ]
  },
  {
   "cell_type": "code",
   "execution_count": 42,
   "metadata": {},
   "outputs": [
    {
     "name": "stdout",
     "output_type": "stream",
     "text": [
      "False\n"
     ]
    }
   ],
   "source": [
    "# b) The value of the expression that evaluates whether the length of the above hypotenuse is 5\n",
    "a=7\n",
    "b=4\n",
    "import math\n",
    "c= int(math.sqrt(a**2 + b**2))==5\n",
    "print (c)\n"
   ]
  },
  {
   "cell_type": "code",
   "execution_count": 43,
   "metadata": {},
   "outputs": [
    {
     "name": "stdout",
     "output_type": "stream",
     "text": [
      "For area of disk is:  78\n"
     ]
    }
   ],
   "source": [
    "#c) The area of a disk of radius a\n",
    "a=5\n",
    "import math\n",
    "c= int(math.pi* a**2)\n",
    "print (\"For area of disk is: \", c)\n",
    "\n"
   ]
  },
  {
   "cell_type": "code",
   "execution_count": 45,
   "metadata": {},
   "outputs": [],
   "source": [
    "#(d) The value of the Boolean expression that checks whether a point with coordinates xand y is inside a circle with center (a, b) and radius r\n"
   ]
  },
  {
   "cell_type": "markdown",
   "metadata": {},
   "source": [
    "## 2.11\n"
   ]
  },
  {
   "cell_type": "code",
   "execution_count": 48,
   "metadata": {},
   "outputs": [
    {
     "name": "stdout",
     "output_type": "stream",
     "text": [
      "Sum of elements in given list is : -30\n"
     ]
    }
   ],
   "source": [
    "#a\n",
    "lst=[-7,-8,-5,-4,-3,-2,-1]\n",
    "print(\"Sum of elements in given list is :\", sum(lst))\n"
   ]
  },
  {
   "cell_type": "code",
   "execution_count": 49,
   "metadata": {},
   "outputs": [
    {
     "name": "stdout",
     "output_type": "stream",
     "text": [
      "The average age around the group is:  29\n"
     ]
    }
   ],
   "source": [
    "#b\n",
    "age_grp=[17,24,21,27]\n",
    "import math\n",
    "x=int(sum(age_grp)/3)\n",
    "print (\"The average age around the group is: \", x )\n"
   ]
  },
  {
   "cell_type": "code",
   "execution_count": 50,
   "metadata": {},
   "outputs": [
    {
     "data": {
      "text/plain": [
       "9.5367431640625e-07"
      ]
     },
     "execution_count": 50,
     "metadata": {},
     "output_type": "execute_result"
    }
   ],
   "source": [
    "#c\n",
    "2**-20\n"
   ]
  },
  {
   "cell_type": "code",
   "execution_count": 51,
   "metadata": {},
   "outputs": [
    {
     "data": {
      "text/plain": [
       "71"
      ]
     },
     "execution_count": 51,
     "metadata": {},
     "output_type": "execute_result"
    }
   ],
   "source": [
    "#d\n",
    "4356//61\n"
   ]
  },
  {
   "cell_type": "code",
   "execution_count": 53,
   "metadata": {},
   "outputs": [
    {
     "data": {
      "text/plain": [
       "25"
      ]
     },
     "execution_count": 53,
     "metadata": {},
     "output_type": "execute_result"
    }
   ],
   "source": [
    "#e\n",
    "4356 % 61"
   ]
  },
  {
   "cell_type": "markdown",
   "metadata": {},
   "source": [
    "## 2.12 "
   ]
  },
  {
   "cell_type": "code",
   "execution_count": 54,
   "metadata": {},
   "outputs": [
    {
     "name": "stdout",
     "output_type": "stream",
     "text": [
      "-+\n"
     ]
    }
   ],
   "source": [
    "#a\n",
    "s1='-'\n",
    "s2='+'\n",
    "print (s1+s2)\n"
   ]
  },
  {
   "cell_type": "code",
   "execution_count": 56,
   "metadata": {},
   "outputs": [
    {
     "name": "stdout",
     "output_type": "stream",
     "text": [
      "-+-\n"
     ]
    }
   ],
   "source": [
    "#b\n",
    "print (s1+s2+s1)\n"
   ]
  },
  {
   "cell_type": "code",
   "execution_count": 57,
   "metadata": {},
   "outputs": [
    {
     "name": "stdout",
     "output_type": "stream",
     "text": [
      "+--\n"
     ]
    }
   ],
   "source": [
    "#c\n",
    "print (s2+s1+s1)\n"
   ]
  },
  {
   "cell_type": "code",
   "execution_count": 58,
   "metadata": {},
   "outputs": [
    {
     "name": "stdout",
     "output_type": "stream",
     "text": [
      "+--+--\n"
     ]
    }
   ],
   "source": [
    "#d\n",
    "print (2*(s2+s1+s1))\n"
   ]
  },
  {
   "cell_type": "code",
   "execution_count": 59,
   "metadata": {},
   "outputs": [
    {
     "name": "stdout",
     "output_type": "stream",
     "text": [
      "+--+--+--+--+--+--+--+--+--+--+\n"
     ]
    }
   ],
   "source": [
    "#e\n",
    "print (10*(s2+s1+s1)+s2)\n"
   ]
  },
  {
   "cell_type": "code",
   "execution_count": 60,
   "metadata": {},
   "outputs": [
    {
     "name": "stdout",
     "output_type": "stream",
     "text": [
      "+-+++--+-+++--+-+++--+-+++--+-+++--\n"
     ]
    }
   ],
   "source": [
    "#f\n",
    "print(5*(s2+s1+s2+s2+s2+s1+s1))"
   ]
  },
  {
   "cell_type": "markdown",
   "metadata": {},
   "source": [
    "## 2.13 "
   ]
  },
  {
   "cell_type": "code",
   "execution_count": 61,
   "metadata": {},
   "outputs": [
    {
     "data": {
      "text/plain": [
       "'a'"
      ]
     },
     "execution_count": 61,
     "metadata": {},
     "output_type": "execute_result"
    }
   ],
   "source": [
    "s = 'abcdefghijklmnopqrstuvwxyz'\n",
    "s[0]\n"
   ]
  },
  {
   "cell_type": "code",
   "execution_count": 62,
   "metadata": {},
   "outputs": [
    {
     "data": {
      "text/plain": [
       "'c'"
      ]
     },
     "execution_count": 62,
     "metadata": {},
     "output_type": "execute_result"
    }
   ],
   "source": [
    "s[2]\n"
   ]
  },
  {
   "cell_type": "code",
   "execution_count": 63,
   "metadata": {},
   "outputs": [
    {
     "data": {
      "text/plain": [
       "'z'"
      ]
     },
     "execution_count": 63,
     "metadata": {},
     "output_type": "execute_result"
    }
   ],
   "source": [
    "s[-1]\n"
   ]
  },
  {
   "cell_type": "code",
   "execution_count": 64,
   "metadata": {},
   "outputs": [
    {
     "data": {
      "text/plain": [
       "'y'"
      ]
     },
     "execution_count": 64,
     "metadata": {},
     "output_type": "execute_result"
    }
   ],
   "source": [
    "s[-2]\n"
   ]
  },
  {
   "cell_type": "code",
   "execution_count": 65,
   "metadata": {},
   "outputs": [
    {
     "data": {
      "text/plain": [
       "'q'"
      ]
     },
     "execution_count": 65,
     "metadata": {},
     "output_type": "execute_result"
    }
   ],
   "source": [
    "s[-10]"
   ]
  },
  {
   "cell_type": "markdown",
   "metadata": {},
   "source": [
    "## 2.14 "
   ]
  },
  {
   "cell_type": "code",
   "execution_count": 72,
   "metadata": {},
   "outputs": [
    {
     "data": {
      "text/plain": [
       "True"
      ]
     },
     "execution_count": 72,
     "metadata": {},
     "output_type": "execute_result"
    }
   ],
   "source": [
    "s=\"goodbye\"\n",
    "s[0] == 'g'"
   ]
  },
  {
   "cell_type": "code",
   "execution_count": 74,
   "metadata": {},
   "outputs": [
    {
     "data": {
      "text/plain": [
       "False"
      ]
     },
     "execution_count": 74,
     "metadata": {},
     "output_type": "execute_result"
    }
   ],
   "source": [
    "s[6]=='g'\n"
   ]
  },
  {
   "cell_type": "code",
   "execution_count": 76,
   "metadata": {},
   "outputs": [
    {
     "data": {
      "text/plain": [
       "'a'"
      ]
     },
     "execution_count": 76,
     "metadata": {},
     "output_type": "execute_result"
    }
   ],
   "source": [
    "s[0]== 'g' and 'a'\n"
   ]
  },
  {
   "cell_type": "code",
   "execution_count": 77,
   "metadata": {},
   "outputs": [
    {
     "data": {
      "text/plain": [
       "False"
      ]
     },
     "execution_count": 77,
     "metadata": {},
     "output_type": "execute_result"
    }
   ],
   "source": [
    "s[-2]=='x'\n",
    "\n"
   ]
  },
  {
   "cell_type": "code",
   "execution_count": 78,
   "metadata": {},
   "outputs": [
    {
     "data": {
      "text/plain": [
       "True"
      ]
     },
     "execution_count": 78,
     "metadata": {},
     "output_type": "execute_result"
    }
   ],
   "source": [
    "s[3]=='d'\n"
   ]
  },
  {
   "cell_type": "code",
   "execution_count": 79,
   "metadata": {},
   "outputs": [
    {
     "data": {
      "text/plain": [
       "False"
      ]
     },
     "execution_count": 79,
     "metadata": {},
     "output_type": "execute_result"
    }
   ],
   "source": [
    "s[0]==s[6]\n"
   ]
  },
  {
   "cell_type": "code",
   "execution_count": 80,
   "metadata": {},
   "outputs": [
    {
     "data": {
      "text/plain": [
       "False"
      ]
     },
     "execution_count": 80,
     "metadata": {},
     "output_type": "execute_result"
    }
   ],
   "source": [
    "\n",
    "s[-1:-4]== 'tion'"
   ]
  },
  {
   "cell_type": "markdown",
   "metadata": {},
   "source": [
    "## 2.15 "
   ]
  },
  {
   "cell_type": "code",
   "execution_count": null,
   "metadata": {},
   "outputs": [],
   "source": [
    "a='anachronistically'\n",
    "b='counterintuitive'\n",
    "len(a)+1> len(b)\n"
   ]
  },
  {
   "cell_type": "code",
   "execution_count": null,
   "metadata": {},
   "outputs": [],
   "source": [
    "x= ['misrepresentation', 'misinterpretation']\n",
    "x.sort()\n",
    "print (x)"
   ]
  },
  {
   "cell_type": "code",
   "execution_count": 81,
   "metadata": {},
   "outputs": [
    {
     "name": "stdout",
     "output_type": "stream",
     "text": [
      "E is not in the word\n"
     ]
    }
   ],
   "source": [
    "wrd= 'floccinaucinihilipilification'\n",
    "if 'e' in wrd:\n",
    " print(\"E is in this word\")\n",
    "else:\n",
    " print(\"E is not in the word\")\n"
   ]
  },
  {
   "cell_type": "code",
   "execution_count": null,
   "metadata": {},
   "outputs": [],
   "source": [
    "word_1= 'counterrevolution'\n",
    "word_2= 'counter'\n",
    "word_3= 'resolution'\n",
    "print(len(word_1) , \"=\" , len(word_2)+ len(word_3))"
   ]
  },
  {
   "cell_type": "markdown",
   "metadata": {},
   "source": [
    "## 2.16"
   ]
  },
  {
   "cell_type": "code",
   "execution_count": 83,
   "metadata": {},
   "outputs": [],
   "source": [
    "a=6\n",
    "b=7"
   ]
  },
  {
   "cell_type": "code",
   "execution_count": null,
   "metadata": {},
   "outputs": [],
   "source": [
    "c=((b+a)/2)\n"
   ]
  },
  {
   "cell_type": "code",
   "execution_count": 84,
   "metadata": {},
   "outputs": [],
   "source": [
    "inventory=['paper', 'staples','pencils']\n"
   ]
  },
  {
   "cell_type": "code",
   "execution_count": 85,
   "metadata": {},
   "outputs": [],
   "source": [
    "first=' John '\n",
    "middle='Fitzgerald'\n",
    "last=' Kennedy '\n"
   ]
  },
  {
   "cell_type": "code",
   "execution_count": 86,
   "metadata": {},
   "outputs": [
    {
     "name": "stdout",
     "output_type": "stream",
     "text": [
      " John Fitzgerald Kennedy \n"
     ]
    }
   ],
   "source": [
    "fullname= str(first) + str(middle) + str(last)\n",
    "print(fullname)\n"
   ]
  },
  {
   "cell_type": "markdown",
   "metadata": {},
   "source": [
    "## 2.17"
   ]
  },
  {
   "cell_type": "code",
   "execution_count": 87,
   "metadata": {},
   "outputs": [
    {
     "data": {
      "text/plain": [
       "True"
      ]
     },
     "execution_count": 87,
     "metadata": {},
     "output_type": "execute_result"
    }
   ],
   "source": [
    "#a\n",
    "a=17\n",
    "b=-9\n",
    "c=(a+b)\n",
    "c<=10\n"
   ]
  },
  {
   "cell_type": "code",
   "execution_count": 88,
   "metadata": {},
   "outputs": [
    {
     "data": {
      "text/plain": [
       "False"
      ]
     },
     "execution_count": 88,
     "metadata": {},
     "output_type": "execute_result"
    }
   ],
   "source": [
    "#b\n",
    "inventory=['paper', 'staples','pencils']\n",
    "fullname='Filza Manzoor'\n",
    "len(inventory) >= len(5*fullname)"
   ]
  },
  {
   "cell_type": "code",
   "execution_count": 89,
   "metadata": {},
   "outputs": [
    {
     "data": {
      "text/plain": [
       "True"
      ]
     },
     "execution_count": 89,
     "metadata": {},
     "output_type": "execute_result"
    }
   ],
   "source": [
    "#c\n",
    "c<24\n"
   ]
  },
  {
   "cell_type": "code",
   "execution_count": 90,
   "metadata": {},
   "outputs": [
    {
     "data": {
      "text/plain": [
       "True"
      ]
     },
     "execution_count": 90,
     "metadata": {},
     "output_type": "execute_result"
    }
   ],
   "source": [
    "#d\n",
    "a=range(-9,17)\n",
    "6 in a\n"
   ]
  },
  {
   "cell_type": "code",
   "execution_count": 91,
   "metadata": {},
   "outputs": [
    {
     "data": {
      "text/plain": [
       "True"
      ]
     },
     "execution_count": 91,
     "metadata": {},
     "output_type": "execute_result"
    }
   ],
   "source": [
    "s1= 'lily'\n",
    "s2= 'roses'\n",
    "s3= 'jasmine'\n",
    "len (s3) > len(s2)> len(s1)\n"
   ]
  },
  {
   "cell_type": "code",
   "execution_count": 92,
   "metadata": {},
   "outputs": [
    {
     "data": {
      "text/plain": [
       "True"
      ]
     },
     "execution_count": 92,
     "metadata": {},
     "output_type": "execute_result"
    }
   ],
   "source": [
    "inventory=[]\n",
    "len(inventory)==0 or len(inventory)> 10\n"
   ]
  },
  {
   "cell_type": "markdown",
   "metadata": {},
   "source": [
    "## 2.18 "
   ]
  },
  {
   "cell_type": "code",
   "execution_count": 93,
   "metadata": {},
   "outputs": [],
   "source": [
    "flower =['rose', 'bougainvillea',\n",
    "'yucca', 'marigold', 'daylilly', 'lilly of the valley']\n"
   ]
  },
  {
   "cell_type": "code",
   "execution_count": 94,
   "metadata": {},
   "outputs": [
    {
     "data": {
      "text/plain": [
       "False"
      ]
     },
     "execution_count": 94,
     "metadata": {},
     "output_type": "execute_result"
    }
   ],
   "source": [
    "'potato' in flower\n"
   ]
  },
  {
   "cell_type": "code",
   "execution_count": 95,
   "metadata": {
    "scrolled": true
   },
   "outputs": [
    {
     "name": "stdout",
     "output_type": "stream",
     "text": [
      "['rose', 'bougainvillea', 'yucca']\n",
      "['lilly of the valley']\n",
      "[['rose', 'bougainvillea', 'yucca', 'lilly of the valley']]\n"
     ]
    }
   ],
   "source": [
    "thorny= ['rose', 'bougainvillea','yucca']\n",
    "poisonous= ['lilly of the valley']\n",
    "dangerous=[thorny+poisonous]\n",
    "print(thorny)\n",
    "print(poisonous)\n",
    "print(dangerous)"
   ]
  },
  {
   "cell_type": "markdown",
   "metadata": {},
   "source": [
    "## 2.19"
   ]
  },
  {
   "cell_type": "code",
   "execution_count": 96,
   "metadata": {},
   "outputs": [
    {
     "name": "stdout",
     "output_type": "stream",
     "text": [
      "5\n"
     ]
    }
   ],
   "source": [
    "#a\n",
    "answers = ['Y', 'N', 'N', 'Y', 'N', 'Y', 'Y', 'Y', 'N', 'N', 'N']\n",
    "numyes =answers.count('Y')\n",
    "print (numyes)"
   ]
  },
  {
   "cell_type": "code",
   "execution_count": 97,
   "metadata": {},
   "outputs": [
    {
     "name": "stdout",
     "output_type": "stream",
     "text": [
      "6\n"
     ]
    }
   ],
   "source": [
    "#b\n",
    "numno =answers.count('N')\n",
    "print (numno)\n"
   ]
  },
  {
   "cell_type": "code",
   "execution_count": 98,
   "metadata": {},
   "outputs": [
    {
     "name": "stdout",
     "output_type": "stream",
     "text": [
      "45\n"
     ]
    }
   ],
   "source": [
    "percentyes= (numyes*100)/11\n",
    "print(int(percentyes))"
   ]
  },
  {
   "cell_type": "code",
   "execution_count": 99,
   "metadata": {},
   "outputs": [
    {
     "name": "stdout",
     "output_type": "stream",
     "text": [
      "['N', 'N', 'N', 'N', 'N', 'N', 'Y', 'Y', 'Y', 'Y', 'Y']\n"
     ]
    }
   ],
   "source": [
    "answers = ['Y', 'N', 'N', 'Y', 'N', 'Y', 'Y', 'Y', 'N', 'N', 'N']\n",
    "answers.sort()\n",
    "print(answers)\n"
   ]
  },
  {
   "cell_type": "code",
   "execution_count": 100,
   "metadata": {},
   "outputs": [
    {
     "data": {
      "text/plain": [
       "'Y'"
      ]
     },
     "execution_count": 100,
     "metadata": {},
     "output_type": "execute_result"
    }
   ],
   "source": [
    "#f\n",
    "answers[6]\n"
   ]
  },
  {
   "cell_type": "markdown",
   "metadata": {},
   "source": [
    "## 2.20 "
   ]
  },
  {
   "cell_type": "code",
   "execution_count": 101,
   "metadata": {},
   "outputs": [
    {
     "name": "stdout",
     "output_type": "stream",
     "text": [
      "['p', 'i', 't']\n"
     ]
    }
   ],
   "source": [
    "s1= ['t','i','p']\n",
    "s1.reverse()\n",
    "print(s1)"
   ]
  },
  {
   "cell_type": "markdown",
   "metadata": {},
   "source": [
    "## 2.21 "
   ]
  },
  {
   "cell_type": "code",
   "execution_count": 102,
   "metadata": {},
   "outputs": [
    {
     "name": "stdout",
     "output_type": "stream",
     "text": [
      "LP\n"
     ]
    }
   ],
   "source": [
    "s=['L', 'a','r','y']\n",
    "t=['P','a','g','e']\n",
    "x=s[0]+t[0]\n",
    "print(x)\n"
   ]
  },
  {
   "cell_type": "markdown",
   "metadata": {},
   "source": [
    "## 2.22"
   ]
  },
  {
   "cell_type": "code",
   "execution_count": 103,
   "metadata": {},
   "outputs": [
    {
     "ename": "TypeError",
     "evalue": "unsupported operand type(s) for -: 'list' and 'list'",
     "output_type": "error",
     "traceback": [
      "\u001b[1;31m---------------------------------------------------------------------------\u001b[0m",
      "\u001b[1;31mTypeError\u001b[0m                                 Traceback (most recent call last)",
      "\u001b[1;32m<ipython-input-103-4920c9c14723>\u001b[0m in \u001b[0;36m<module>\u001b[1;34m\u001b[0m\n\u001b[0;32m      2\u001b[0m \u001b[0mx\u001b[0m\u001b[1;33m=\u001b[0m\u001b[1;33m[\u001b[0m\u001b[1;36m1\u001b[0m\u001b[1;33m]\u001b[0m\u001b[1;33m\u001b[0m\u001b[1;33m\u001b[0m\u001b[0m\n\u001b[0;32m      3\u001b[0m \u001b[0my\u001b[0m\u001b[1;33m=\u001b[0m\u001b[1;33m[\u001b[0m\u001b[1;36m2\u001b[0m\u001b[1;33m]\u001b[0m\u001b[1;33m\u001b[0m\u001b[1;33m\u001b[0m\u001b[0m\n\u001b[1;32m----> 4\u001b[1;33m \u001b[0mprint\u001b[0m \u001b[1;33m(\u001b[0m\u001b[0mx\u001b[0m\u001b[1;33m-\u001b[0m\u001b[0my\u001b[0m\u001b[1;33m)\u001b[0m\u001b[1;33m\u001b[0m\u001b[1;33m\u001b[0m\u001b[0m\n\u001b[0m",
      "\u001b[1;31mTypeError\u001b[0m: unsupported operand type(s) for -: 'list' and 'list'"
     ]
    }
   ],
   "source": [
    "lst= [3, 7, -2, 12]\n",
    "x=[1]\n",
    "y=[2]\n",
    "print (x-y)\n"
   ]
  },
  {
   "cell_type": "markdown",
   "metadata": {},
   "source": [
    "## 2.23"
   ]
  },
  {
   "cell_type": "code",
   "execution_count": 104,
   "metadata": {},
   "outputs": [
    {
     "name": "stdout",
     "output_type": "stream",
     "text": [
      "('Mar', 'Apr', 'May')\n",
      "['Mar', 'Apr', 'May']\n",
      "['Mar', 'Apr', 'May', 'Jun']\n",
      "['Mar', 'Apr', 'Jun']\n",
      "['Mar', 'May', 'Jun']\n",
      "['Jun', 'May', 'Apr', 'Mar']\n"
     ]
    }
   ],
   "source": [
    "#(a) Tuple\n",
    "monthT= ('Mar', 'May')\n",
    "n= 1\n",
    "monthT [ :n]\n",
    "monthT [n: ]\n",
    "monthT= monthT[ :n] + ( \"Apr\" , ) + monthT[n: ]\n",
    "print(monthT)\n",
    "# List\n",
    "monthL=['Mar', 'May']\n",
    "monthL.insert(1, 'Apr' )\n",
    "print(monthL)\n",
    "#(b) Tuple\n",
    "#ERROR because tuples are immutable\n",
    "#List\n",
    "monthL.append('Jun')\n",
    "print(monthL)\n",
    "#(c) Tuple\n",
    "#ERROR because tuples are immutable\n",
    "#List\n",
    "monthL= ['Mar', 'Apr', 'May', 'Jun']\n",
    "monthL.pop(2)\n",
    "print(monthL)\n",
    "#(d) Tuple\n",
    "#ERROR because tuples are immutable\n",
    "#List\n",
    "monthL = ['Mar', 'Apr', 'May', 'Jun']\n",
    "monthL.pop(1)\n",
    "print(monthL)\n",
    "#(e) Tuple\n",
    "monthT= ('Mar', 'May')\n",
    "monthT= tuple(reversed(monthT))\n",
    "#List\n",
    "monthL = ['Mar', 'Apr', 'May', 'Jun']\n",
    "monthL = monthL[::-1]\n",
    "print(monthL)\n",
    "#(f) Tuple\n",
    "#ERROR because there is no attribute to sort.\n",
    "#List\n",
    "monthL = ['Mar', 'Apr', 'May', 'Jun']\n",
    "monthL.sort()"
   ]
  },
  {
   "cell_type": "markdown",
   "metadata": {},
   "source": [
    "## 2.25"
   ]
  },
  {
   "cell_type": "code",
   "execution_count": 105,
   "metadata": {},
   "outputs": [
    {
     "name": "stdout",
     "output_type": "stream",
     "text": [
      "4\n"
     ]
    }
   ],
   "source": [
    "grades = ['B','B','F','C','B','A','A','D','C','D','A','A','B']\n",
    "grad_1= grades.count('A')\n",
    "print (grad_1)\n"
   ]
  },
  {
   "cell_type": "code",
   "execution_count": 106,
   "metadata": {},
   "outputs": [
    {
     "name": "stdout",
     "output_type": "stream",
     "text": [
      "4\n"
     ]
    }
   ],
   "source": [
    "grad_1= grades.count('B')\n",
    "print (grad_1)\n"
   ]
  },
  {
   "cell_type": "code",
   "execution_count": 107,
   "metadata": {},
   "outputs": [
    {
     "name": "stdout",
     "output_type": "stream",
     "text": [
      "2\n"
     ]
    }
   ],
   "source": [
    "grad_1= grades.count('C')\n",
    "print (grad_1)\n"
   ]
  },
  {
   "cell_type": "code",
   "execution_count": 108,
   "metadata": {},
   "outputs": [
    {
     "name": "stdout",
     "output_type": "stream",
     "text": [
      "2\n"
     ]
    }
   ],
   "source": [
    "grad_1= grades.count('D')\n",
    "print (grad_1)\n"
   ]
  },
  {
   "cell_type": "code",
   "execution_count": 109,
   "metadata": {},
   "outputs": [
    {
     "name": "stdout",
     "output_type": "stream",
     "text": [
      "1\n"
     ]
    }
   ],
   "source": [
    "grad_1= grades.count('F')\n",
    "print (grad_1)\n"
   ]
  },
  {
   "cell_type": "markdown",
   "metadata": {},
   "source": [
    "## 2.26"
   ]
  },
  {
   "cell_type": "code",
   "execution_count": 110,
   "metadata": {},
   "outputs": [
    {
     "name": "stdout",
     "output_type": "stream",
     "text": [
      "True\n",
      "False\n",
      "True\n",
      "False\n"
     ]
    }
   ],
   "source": [
    "from math import *\n",
    "r=10\n",
    "a=sqrt((0-0)**2+(0-0)**2)\n",
    "b=sqrt((10-0)**2+(10-0)**2)\n",
    "c=sqrt((6-0)**2+(6-0)**2)\n",
    "d=sqrt((8-0)**2+(7-0)**2)\n",
    "print(a<r)\n",
    "print(b<r)\n",
    "print(c<r)\n",
    "print(d<r)\n"
   ]
  },
  {
   "cell_type": "markdown",
   "metadata": {},
   "source": [
    "## 2.27"
   ]
  },
  {
   "cell_type": "code",
   "execution_count": 112,
   "metadata": {},
   "outputs": [
    {
     "name": "stdout",
     "output_type": "stream",
     "text": [
      "The height of the different triangles are measured below using the trignometric formula (h=l*sinx), where 'h=height', 'l=length'\n",
      "(a) h= 16 ft. x=75 degrees\n",
      " 75 degrees in radian is 1.3 rad \n",
      "1.3 rad in sin is 0.96\n",
      "Answer= 15.36\n",
      "(b) h= 20 ft. x=0 degrees\n",
      " 0 degrees in radian is 0 rad \n",
      "0 rad in sin is 0\n",
      "Answer= 0\n",
      "(c) h= 24 ft. x=45 degrees\n",
      " 45 degrees in radian is 0.7 rad \n",
      "0.7 rad in sin is 0.64\n",
      "Answer= 15.36\n",
      "(d) h= 24 ft. x=80 degrees\n",
      " 80 degrees in radian is 1.3 rad \n",
      "1.3 rad in sin is 0.96\n",
      "Answer= 76.8\n"
     ]
    }
   ],
   "source": [
    "print(\"The height of the different triangles are measured below using the trignometric formula (h=l*sinx), where 'h=height', 'l=length'\")\n",
    "print( \"(a) h= 16 ft. x=75 degrees\")\n",
    "print(\" 75 degrees in radian is 1.3 rad \")\n",
    "print( \"1.3 rad in sin is 0.96\" )\n",
    "output= (16*0.96)\n",
    "print (\"Answer=\", output)\n",
    "print( \"(b) h= 20 ft. x=0 degrees\")\n",
    "print(\" 0 degrees in radian is 0 rad \")\n",
    "print( \"0 rad in sin is 0\" )\n",
    "output= (20*0)\n",
    "print (\"Answer=\", output)\n",
    "print( \"(c) h= 24 ft. x=45 degrees\")\n",
    "print(\" 45 degrees in radian is 0.7 rad \")\n",
    "print( \"0.7 rad in sin is 0.64\" )\n",
    "output= (24*0.64)\n",
    "print (\"Answer=\", output)\n",
    "print( \"(d) h= 24 ft. x=80 degrees\")\n",
    "print(\" 80 degrees in radian is 1.3 rad \")\n",
    "print( \"1.3 rad in sin is 0.96\" )\n",
    "output= (80*0.96)\n",
    "print (\"Answer=\", output)\n"
   ]
  },
  {
   "cell_type": "markdown",
   "metadata": {},
   "source": [
    "## 2.28 "
   ]
  },
  {
   "cell_type": "code",
   "execution_count": 113,
   "metadata": {},
   "outputs": [
    {
     "name": "stdout",
     "output_type": "stream",
     "text": [
      "(A) The above list is of even length, so the middle number will be  5.0\n",
      "The index of the middle number is  3\n",
      "(B)The middle element of the list is\n",
      "(C) [8, 7, 6, 5, 4, 3, 2, 1]\n",
      "(D) [2, 3, 4, 5, 6, 7, 8, 1]\n"
     ]
    }
   ],
   "source": [
    "list_1 =[1,2,3,4,5,6,7,8]\n",
    "#(a) An expression that evaluates to the index of the middle element of the list\n",
    "print(\"(A) The above list is of even length, so the middle number will be \", (8+2)/2)\n",
    "output =(list_1.index (4))\n",
    "print(\"The index of the middle number is \", output)\n",
    "#(b) Evaluate middle number of the list\n",
    "print(\"(B)The middle element of the list is\")\n",
    "len(list_1)/2\n",
    "#(c) Sort the list\n",
    "list_1.sort(reverse= True)\n",
    "print(\"(C)\" ,list_1)\n",
    "#(d) Statement that pops the 1st number and arranges it at the end\n",
    "list_1 =[1,2,3,4,5,6,7,8]\n",
    "list_1.append(1)\n",
    "list_1.pop(0)\n",
    "print('(D)', list_1)"
   ]
  },
  {
   "cell_type": "markdown",
   "metadata": {},
   "source": [
    "## 2.29"
   ]
  },
  {
   "cell_type": "code",
   "execution_count": 114,
   "metadata": {},
   "outputs": [
    {
     "name": "stdout",
     "output_type": "stream",
     "text": [
      "True\n",
      "True\n",
      "True\n"
     ]
    }
   ],
   "source": [
    "a= (0 <= 1 <= 2)\n",
    "print (a)\n",
    "b= (2 + 3) <= (4 + 5) >= (7)\n",
    "print(b)\n",
    "c= (1 > -1) == (4> 3)\n",
    "print (c)\n"
   ]
  },
  {
   "cell_type": "markdown",
   "metadata": {},
   "source": [
    "## 2.30"
   ]
  },
  {
   "cell_type": "code",
   "execution_count": 115,
   "metadata": {},
   "outputs": [
    {
     "name": "stdout",
     "output_type": "stream",
     "text": [
      "['Filza', 'Usman', 'Ali', 'Fatima', 'Hania']\n",
      "The append function inserts a new or added string at the last of the string\n"
     ]
    }
   ],
   "source": [
    "lst=['Filza','Usman','Ali','Fatima']\n",
    "lst.append('Hania')\n",
    "print(lst)\n",
    "print('The append function inserts a new or added string at the last of the string')"
   ]
  },
  {
   "cell_type": "markdown",
   "metadata": {},
   "source": [
    "## 2.31 "
   ]
  },
  {
   "cell_type": "code",
   "execution_count": 116,
   "metadata": {},
   "outputs": [
    {
     "name": "stdout",
     "output_type": "stream",
     "text": [
      "extend: the extend method increases the length of the list\n",
      "extend: the copy method makes a copy of the list\n",
      "extend: the clear method clears the elements of the list\n"
     ]
    }
   ],
   "source": [
    "print('extend: the extend method increases the length of the list')\n",
    "print('extend: the copy method makes a copy of the list')\n",
    "print('extend: the clear method clears the elements of the list')"
   ]
  },
  {
   "cell_type": "code",
   "execution_count": null,
   "metadata": {},
   "outputs": [],
   "source": []
  }
 ],
 "metadata": {
  "kernelspec": {
   "display_name": "Python 3",
   "language": "python",
   "name": "python3"
  },
  "language_info": {
   "codemirror_mode": {
    "name": "ipython",
    "version": 3
   },
   "file_extension": ".py",
   "mimetype": "text/x-python",
   "name": "python",
   "nbconvert_exporter": "python",
   "pygments_lexer": "ipython3",
   "version": "3.7.3"
  }
 },
 "nbformat": 4,
 "nbformat_minor": 2
}
